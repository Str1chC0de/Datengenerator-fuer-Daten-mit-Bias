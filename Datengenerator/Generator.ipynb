{
 "cells": [
  {
   "cell_type": "code",
   "execution_count": 212,
   "metadata": {},
   "outputs": [],
   "source": [
    "import numpy as np\n",
    "from faker import Faker\n",
    "import pandas as pd\n",
    "import os\n",
    "from datetime import datetime\n",
    "import random\n",
    "\n",
    "fake = Faker()"
   ]
  },
  {
   "cell_type": "code",
   "execution_count": 167,
   "metadata": {},
   "outputs": [],
   "source": [
    "def erstelle_fake_data(num = 10, seed = 123):\n",
    "    np.random.seed(seed)\n",
    "    fake.seed_instance(seed)\n",
    "    output = []\n",
    "    for x in range(num):\n",
    "        geschlecht = np.random.choice([\"M\", \"W\"], p=[0.65, 0.35])\n",
    "        output.append(\n",
    "            {\n",
    "                \"Name\": fake.first_name_male() if geschlecht==\"M\" else fake.first_name_female(),\n",
    "                \"Hautfarbe\": np.random.choice([\"White\", \"Black\"], p=[0.4, 0.6]),\n",
    "                \"Laufende_Strafe\": np.random.choice([1,2,3,4,5]),\n",
    "                \"Geschlecht\": geschlecht,\n",
    "                \"Haerte_des_Vergehens\": np.random.choice([\"Leicht\", \"Mittel\", \"Hart\"], p=[0.45, 0.35, 0.2])\n",
    "            }  \n",
    "        )\n",
    "    return output"
   ]
  },
  {
   "cell_type": "code",
   "execution_count": 168,
   "metadata": {},
   "outputs": [],
   "source": [
    "def regeln_erstellen(antrag_werte, antrag_bias, bias):\n",
    "    regel_pos = {}\n",
    "    regel_neg = {}\n",
    "    regel_neg_bias = {}\n",
    "    regel_pos_bias = {}\n",
    "    for key in antrag_werte.keys():\n",
    "        values = antrag_werte[key]\n",
    "        length = int(len(values)/2)+1\n",
    "        pos_values = []\n",
    "        for x in range(length):\n",
    "            pos_values.append(values[x])\n",
    "        regel_pos[key] = pos_values\n",
    "        neg_values = []\n",
    "        for y in range(len(values)):\n",
    "            if(y >= length):\n",
    "                neg_values.append(values[y])\n",
    "        regel_neg[key] = neg_values\n",
    "    regel_pos_bias = regel_pos.copy()\n",
    "    regel_neg_bias = regel_neg.copy()\n",
    "    if(bias != None):\n",
    "        for key in antrag_bias.keys():\n",
    "            if(bias.keys().__contains__(key)):\n",
    "                regel_neg_bias[key] = bias[key]\n",
    "                neg_bias = bias[key]\n",
    "                regel_pos_bias[key] = []\n",
    "                for val in antrag_bias[key]:\n",
    "                    if not(neg_bias.__contains__(val)):\n",
    "                        regel_pos_bias[key].append(val)\n",
    "    return(regel_pos, regel_neg, regel_pos_bias, regel_neg_bias)"
   ]
  },
  {
   "cell_type": "code",
   "execution_count": 169,
   "metadata": {},
   "outputs": [],
   "source": [
    "def seed_generieren():\n",
    "    now = datetime.now()\n",
    "    seed = (now.day * now.minute * now.second * now.month * now.year * now.hour) / now.microsecond \n",
    "    print(seed)\n",
    "    if(seed <= 0):\n",
    "        seed = now.day * (now.minute + 1)\n",
    "    return seed"
   ]
  },
  {
   "cell_type": "code",
   "execution_count": null,
   "metadata": {},
   "outputs": [],
   "source": [
    "class Bewerter:\n",
    "    def __init__(self, regeln_pos, regeln_neg):\n",
    "        self.regeln_pos = regeln_pos\n",
    "        self.regeln_neg = regeln_neg\n",
    "    def bewerte(self, antrag):\n",
    "        for key in self.regeln_pos.keys():\n",
    "            if not(self.regeln_pos[key].__contains__(antrag[key])):\n",
    "                antrag[\"Bewertung\"] = \"negativ\"\n",
    "                return antrag\n",
    "        antrag[\"Bewertung\"] = \"positiv\"\n",
    "        return antrag"
   ]
  },
  {
   "cell_type": "code",
   "execution_count": 215,
   "metadata": {},
   "outputs": [],
   "source": [
    "def work(df, bias, anzahlBewerter):\n",
    "    antrag_füllwerte = {\n",
    "        \"Name\": \"random\"\n",
    "    }\n",
    "    antrag_werte = {\n",
    "        \"Laufende_Strafe\": [1,2,3,4,5],\n",
    "        \"Haerte_des_Vergehens\": [\"Leicht\", \"Mittel\", \"Hart\"]\n",
    "    }\n",
    "    antrag_bias = {\n",
    "        \"Hautfarbe\": [\"Black\", \"White\"],\n",
    "        \"Geschlecht\": [\"M\", \"W\"]\n",
    "    }\n",
    "    r_pos, r_neg, rb_pos, rb_neg = regeln_erstellen(antrag_werte, antrag_bias, bias)\n",
    "    #Bewerten\n",
    "    bewerter = []\n",
    "    for x in range(anzahlBewerter):\n",
    "        bewerter.append(Bewerter(regeln_pos=r_pos, regeln_neg=r_neg))\n",
    "    biasBewerter = round(anzahlBewerter * 0.2)\n",
    "    if(biasBewerter == 0):\n",
    "        biasBewerter = 1\n",
    "    for x in range(biasBewerter):\n",
    "        bewerter[x].regeln_pos = rb_pos\n",
    "        bewerter[x].regeln_neg = rb_neg\n",
    "    i = 0\n",
    "    fertige_antraege = []\n",
    "    for index, r in df.iterrows():\n",
    "        #if(i >= anzahlBewerter):\n",
    "        #    i = 0\n",
    "        i = random.randint(0, anzahlBewerter-1)\n",
    "        antrag = bewerter[i].bewerte(r.copy())\n",
    "        fertige_antraege.append(antrag)\n",
    "        #i += 1\n",
    "    newdf = pd.DataFrame(fertige_antraege)\n",
    "    return newdf\n",
    "\n",
    "    \n",
    "def daten_generieren(anzahlDaten):\n",
    "    seed = seed_generieren()\n",
    "    df = pd.DataFrame(erstelle_fake_data(anzahlDaten,int(seed)))\n",
    "    return df"
   ]
  },
  {
   "cell_type": "code",
   "execution_count": 231,
   "metadata": {},
   "outputs": [
    {
     "name": "stdout",
     "output_type": "stream",
     "text": [
      "411.89273249846025\n",
      "        Name Hautfarbe  Laufende_Strafe Geschlecht Haerte_des_Vergehens\n",
      "0      Cindy     Black                3          W               Mittel\n",
      "1    Gabriel     Black                1          M               Mittel\n",
      "2      Larry     Black                5          M               Mittel\n",
      "3      David     White                1          M               Leicht\n",
      "4  Stephanie     Black                3          W               Leicht\n",
      "5      James     Black                5          M               Mittel\n",
      "6     Daniel     White                4          M               Leicht\n",
      "7       Adam     Black                5          M               Mittel\n",
      "8    Timothy     Black                1          M               Mittel\n",
      "9    Michael     Black                5          M               Mittel\n",
      "        Name Hautfarbe  Laufende_Strafe Geschlecht Haerte_des_Vergehens  \\\n",
      "0      Cindy     Black                3          W               Mittel   \n",
      "1    Gabriel     Black                1          M               Mittel   \n",
      "2      Larry     Black                5          M               Mittel   \n",
      "3      David     White                1          M               Leicht   \n",
      "4  Stephanie     Black                3          W               Leicht   \n",
      "5      James     Black                5          M               Mittel   \n",
      "6     Daniel     White                4          M               Leicht   \n",
      "7       Adam     Black                5          M               Mittel   \n",
      "8    Timothy     Black                1          M               Mittel   \n",
      "9    Michael     Black                5          M               Mittel   \n",
      "\n",
      "  Bewertung  \n",
      "0   positiv  \n",
      "1   positiv  \n",
      "2   negativ  \n",
      "3   positiv  \n",
      "4   positiv  \n",
      "5   negativ  \n",
      "6   negativ  \n",
      "7   negativ  \n",
      "8   positiv  \n",
      "9   negativ  \n"
     ]
    }
   ],
   "source": [
    "bias = {\n",
    "    \"Hautfarbe\": [\"Black\"]\n",
    "}\n",
    "data = daten_generieren(10)\n",
    "print(data)\n",
    "finished = work(data,None,5)\n",
    "print(finished)\n",
    "data.to_csv(\"Daten.csv\", sep=';', encoding='utf-8', index=False)"
   ]
  }
 ],
 "metadata": {
  "interpreter": {
   "hash": "b3ba2566441a7c06988d0923437866b63cedc61552a5af99d1f4fb67d367b25f"
  },
  "kernelspec": {
   "display_name": "Python 3.8.8 64-bit ('base': conda)",
   "language": "python",
   "name": "python3"
  },
  "language_info": {
   "codemirror_mode": {
    "name": "ipython",
    "version": 3
   },
   "file_extension": ".py",
   "mimetype": "text/x-python",
   "name": "python",
   "nbconvert_exporter": "python",
   "pygments_lexer": "ipython3",
   "version": "3.8.8"
  },
  "orig_nbformat": 4
 },
 "nbformat": 4,
 "nbformat_minor": 2
}
