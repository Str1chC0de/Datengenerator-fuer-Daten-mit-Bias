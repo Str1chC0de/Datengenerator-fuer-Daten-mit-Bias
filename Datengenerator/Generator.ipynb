{
 "cells": [
  {
   "cell_type": "markdown",
   "metadata": {},
   "source": [
    "# Datengenerator und Bewertung\n",
    "    Szenario der Bewährungsauflagen Bewertung mit 5 Attributen(Name, Hautfarbe, Laufende_Strafe in Jahre, Geschlecht und Härte des Vergehens)\n",
    "    Dabei können Hautfarbe und Geschlecht durch Bias beeinflusst werden."
   ]
  },
  {
   "cell_type": "code",
   "execution_count": 10,
   "metadata": {},
   "outputs": [],
   "source": [
    "import numpy as np\n",
    "from faker import Faker\n",
    "import pandas as pd\n",
    "import os\n",
    "from datetime import datetime\n",
    "import random\n",
    "\n",
    "fake = Faker()"
   ]
  },
  {
   "cell_type": "code",
   "execution_count": 11,
   "metadata": {},
   "outputs": [],
   "source": [
    "def erstelle_fake_data(num = 10, seed = 123):\n",
    "    np.random.seed(seed)\n",
    "    fake.seed_instance(seed)\n",
    "    output = []\n",
    "    for x in range(num):\n",
    "        geschlecht = np.random.choice([\"M\", \"W\"], p=[0.80, 0.20])\n",
    "        haerte = np.random.choice([\"Leicht\", \"Mittel\", \"Hart\"], p=[0.45, 0.35, 0.2]) if geschlecht==\"M\" else np.random.choice([\"Leicht\", \"Mittel\", \"Hart\"], p=[0.6, 0.3, 0.1])\n",
    "        hautfarbe = np.random.choice([\"White\", \"Black\"], p=[0.25, 0.75]) if geschlecht==\"M\" else np.random.choice([\"White\", \"Black\"], p=[0.65, 0.35])\n",
    "        output.append(\n",
    "            {\n",
    "                \"Name\": fake.first_name_male() if geschlecht==\"M\" else fake.first_name_female(),\n",
    "                \"Hautfarbe\": hautfarbe,\n",
    "                \"Laufende_Strafe\": np.random.choice([1,2,3,4,5]),\n",
    "                \"Geschlecht\": geschlecht,\n",
    "                \"Haerte_des_Vergehens\": haerte\n",
    "            }  \n",
    "        )\n",
    "    return output"
   ]
  },
  {
   "cell_type": "code",
   "execution_count": 12,
   "metadata": {},
   "outputs": [],
   "source": [
    "def regeln_erstellen(antrag_werte, antrag_bias, bias):\n",
    "    regel_pos = {}\n",
    "    regel_neg = {}\n",
    "    regel_neg_bias = {}\n",
    "    regel_pos_bias = {}\n",
    "    for key in antrag_werte.keys():\n",
    "        values = antrag_werte[key]\n",
    "        length = int(len(values)/2)+1\n",
    "        pos_values = []\n",
    "        for x in range(length):\n",
    "            pos_values.append(values[x])\n",
    "        regel_pos[key] = pos_values\n",
    "        neg_values = []\n",
    "        for y in range(len(values)):\n",
    "            if(y >= length):\n",
    "                neg_values.append(values[y])\n",
    "        regel_neg[key] = neg_values\n",
    "    regel_pos_bias = regel_pos.copy()\n",
    "    regel_neg_bias = regel_neg.copy()\n",
    "    if(bias != None):\n",
    "        for key in antrag_bias.keys():\n",
    "            if(bias.keys().__contains__(key)):\n",
    "                regel_neg_bias[key] = bias[key]\n",
    "                neg_bias = bias[key]\n",
    "                regel_pos_bias[key] = []\n",
    "                for val in antrag_bias[key]:\n",
    "                    if not(neg_bias.__contains__(val)):\n",
    "                        regel_pos_bias[key].append(val)\n",
    "    return(regel_pos, regel_neg, regel_pos_bias, regel_neg_bias)"
   ]
  },
  {
   "cell_type": "code",
   "execution_count": 13,
   "metadata": {},
   "outputs": [
    {
     "name": "stdout",
     "output_type": "stream",
     "text": [
      "{'Laufende_Strafe': [1, 2, 3], 'Haerte_des_Vergehens': ['Leicht', 'Mittel']}\n",
      "{'Laufende_Strafe': [4, 5], 'Haerte_des_Vergehens': ['Hart']}\n",
      "{'Laufende_Strafe': [1, 2, 3], 'Haerte_des_Vergehens': ['Leicht', 'Mittel'], 'Hautfarbe': ['White']}\n",
      "{'Laufende_Strafe': [4, 5], 'Haerte_des_Vergehens': ['Hart'], 'Hautfarbe': ['Black']}\n",
      "3\n"
     ]
    }
   ],
   "source": [
    "bias = {\n",
    "    \"Hautfarbe\": [\"Black\"]\n",
    "}\n",
    "antrag_werte = {\n",
    "    \"Laufende_Strafe\": [1,2,3,4,5],\n",
    "    \"Haerte_des_Vergehens\": [\"Leicht\", \"Mittel\", \"Hart\"]\n",
    "}\n",
    "antrag_bias = {\n",
    "    \"Hautfarbe\": [\"Black\", \"White\"],\n",
    "    \"Geschlecht\": [\"M\", \"W\"]\n",
    "}\n",
    "r_pos, r_neg, rb_pos, rb_neg = regeln_erstellen(antrag_werte, antrag_bias, bias)\n",
    "print(r_pos)\n",
    "print(r_neg)\n",
    "print(rb_pos)\n",
    "print(rb_neg)\n",
    "print(rb_pos.__len__())"
   ]
  },
  {
   "cell_type": "code",
   "execution_count": 14,
   "metadata": {},
   "outputs": [],
   "source": [
    "def seed_generieren():\n",
    "    now = datetime.now()\n",
    "    seed = (now.day * now.minute * now.second * now.month * now.year * now.hour) / now.microsecond \n",
    "    print(seed)\n",
    "    if(seed <= 0):\n",
    "        seed = now.day * (now.minute + 1)\n",
    "    return seed"
   ]
  },
  {
   "cell_type": "code",
   "execution_count": 15,
   "metadata": {},
   "outputs": [],
   "source": [
    "class Bewerter1:\n",
    "    def __init__(self, regeln_pos, regeln_neg, bias):\n",
    "        self.regeln_pos = regeln_pos\n",
    "        self.regeln_neg = regeln_neg\n",
    "        self.bias = bias\n",
    "    def bewerte(self, antrag):\n",
    "        pos = 50\n",
    "        anteil = 45/self.regeln_pos.__len__()\n",
    "        for key in self.regeln_pos.keys():\n",
    "            if(self.regeln_pos[key].__contains__(antrag[key])):\n",
    "                pos += anteil\n",
    "            else:\n",
    "                pos -= anteil\n",
    "        try:\n",
    "            pos = pos/100\n",
    "            neg = 1-pos\n",
    "            antrag[\"Bewertung\"] = np.random.choice([\"positiv\", \"negativ\"], p=[pos, neg])\n",
    "        except:\n",
    "            print(\"SHIT\")\n",
    "        return antrag"
   ]
  },
  {
   "cell_type": "code",
   "execution_count": 16,
   "metadata": {},
   "outputs": [],
   "source": [
    "class Bewerter:\n",
    "    def __init__(self, regeln_pos, regeln_neg, bias):\n",
    "        self.regeln_pos = regeln_pos\n",
    "        self.regeln_neg = regeln_neg\n",
    "        self.bias = bias\n",
    "    def bewerte(self, antrag, bias):\n",
    "        pos = 50\n",
    "        anteil = 45/self.regeln_pos.__len__()\n",
    "        for key in self.regeln_pos.keys():\n",
    "            if(self.regeln_pos[key].__contains__(antrag[key])):\n",
    "                pos += anteil\n",
    "            else:\n",
    "                pos -= anteil\n",
    "        try:\n",
    "            if(self.bias):\n",
    "                for b in bias:\n",
    "                    if(antrag[b]==bias[b]):\n",
    "                        pos -= pos*0.8\n",
    "            pos = pos/100\n",
    "            neg = 1-pos\n",
    "            antrag[\"Bewertung\"] = np.random.choice([\"positiv\", \"negativ\"], p=[pos, neg])\n",
    "        except:\n",
    "            print(\"SHIT\")\n",
    "        return antrag"
   ]
  },
  {
   "cell_type": "code",
   "execution_count": 17,
   "metadata": {},
   "outputs": [],
   "source": [
    "def work(df, bias, anzahlBewerter):\n",
    "    antrag_füllwerte = {\n",
    "        \"Name\": \"random\"\n",
    "    }\n",
    "    antrag_werte = {\n",
    "        \"Laufende_Strafe\": [1,2,3,4,5],\n",
    "        \"Haerte_des_Vergehens\": [\"Leicht\", \"Mittel\", \"Hart\"]\n",
    "    }\n",
    "    antrag_bias = {\n",
    "        \"Hautfarbe\": [\"Black\", \"White\"],\n",
    "        \"Geschlecht\": [\"M\", \"W\"]\n",
    "    }\n",
    "    r_pos, r_neg, rb_pos, rb_neg = regeln_erstellen(antrag_werte, antrag_bias, bias)\n",
    "    #Bewerten\n",
    "    bewerter = []\n",
    "    for x in range(anzahlBewerter):\n",
    "        bewerter.append(Bewerter(regeln_pos=r_pos, regeln_neg=r_neg, bias=False))\n",
    "    biasBewerter = round(anzahlBewerter * 0.5)\n",
    "    if(biasBewerter == 0):\n",
    "        biasBewerter = 1\n",
    "    for x in range(biasBewerter):\n",
    "        bewerter[x].regeln_pos = rb_pos\n",
    "        bewerter[x].regeln_neg = rb_neg\n",
    "        bewerter[x].bias = True\n",
    "    i = 0\n",
    "    fertige_antraege = []\n",
    "    for index, r in df.iterrows():\n",
    "        #if(i >= anzahlBewerter):\n",
    "        #    i = 0\n",
    "        i = random.randint(0, anzahlBewerter-1)\n",
    "        antrag = bewerter[i].bewerte(r.copy(), bias)\n",
    "        fertige_antraege.append(antrag)\n",
    "        #i += 1\n",
    "    newdf = pd.DataFrame(fertige_antraege)\n",
    "    return newdf\n",
    "    \n",
    "def daten_generieren(anzahlDaten):\n",
    "    seed = seed_generieren()\n",
    "    df = pd.DataFrame(erstelle_fake_data(anzahlDaten,int(seed)))\n",
    "    return df"
   ]
  },
  {
   "cell_type": "code",
   "execution_count": 18,
   "metadata": {},
   "outputs": [
    {
     "name": "stdout",
     "output_type": "stream",
     "text": [
      "52.95043749407907\n"
     ]
    }
   ],
   "source": [
    "bias = {\n",
    "    \"Hautfarbe\": [\"Black\"]\n",
    "}\n",
    "data = daten_generieren(1000)\n",
    "#print(data)\n",
    "finished = work(data,bias,5)\n",
    "#print(finished)\n",
    "data.to_csv(\"Daten.csv\", sep=';', encoding='utf-8', index=False)\n",
    "finished.to_csv(\"Daten_Bewertet.csv\", sep=';', encoding='utf-8', index=False)"
   ]
  }
 ],
 "metadata": {
  "interpreter": {
   "hash": "b3ba2566441a7c06988d0923437866b63cedc61552a5af99d1f4fb67d367b25f"
  },
  "kernelspec": {
   "display_name": "Python 3.8.8 64-bit ('base': conda)",
   "language": "python",
   "name": "python3"
  },
  "language_info": {
   "codemirror_mode": {
    "name": "ipython",
    "version": 3
   },
   "file_extension": ".py",
   "mimetype": "text/x-python",
   "name": "python",
   "nbconvert_exporter": "python",
   "pygments_lexer": "ipython3",
   "version": "3.8.8"
  },
  "orig_nbformat": 4
 },
 "nbformat": 4,
 "nbformat_minor": 2
}
