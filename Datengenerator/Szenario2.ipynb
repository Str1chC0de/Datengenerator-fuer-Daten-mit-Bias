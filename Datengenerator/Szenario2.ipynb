{
 "cells": [
  {
   "cell_type": "code",
   "execution_count": 14,
   "metadata": {},
   "outputs": [],
   "source": [
    "import numpy as np\n",
    "from faker import Faker,Factory\n",
    "import pandas as pd\n",
    "import os\n",
    "from datetime import datetime\n",
    "import random\n",
    "\n",
    "fake = Factory.create(\"de_DE\")"
   ]
  },
  {
   "cell_type": "code",
   "execution_count": 15,
   "metadata": {},
   "outputs": [],
   "source": [
    "def generate_seed():\n",
    "    now = datetime.now()\n",
    "    #Calculate seed number from a few time data\n",
    "    seed = (now.day * now.minute * now.second * now.month * now.year * now.hour) / now.microsecond \n",
    "    #If a negative or 0 value is the result, a \"simpler\" replacement seed is generated. \n",
    "    if(seed <= 0):\n",
    "        seed = now.day * (now.minute + 1)\n",
    "    return seed"
   ]
  },
  {
   "cell_type": "code",
   "execution_count": 16,
   "metadata": {},
   "outputs": [],
   "source": [
    "def create_fake_data(num = 10, seed = 123):\n",
    "    #Setting the seed for the probability functions\n",
    "    np.random.seed(seed)\n",
    "    fake.seed_instance(seed)\n",
    "    #Defining the Output Array\n",
    "    output = []\n",
    "    #Loop over the number of personal data to be created\n",
    "    for x in range(num):\n",
    "        age_part = np.random.choice([0,1,2], p=[0.33,0.38,0.29])\n",
    "        age = random.randint(20,39) if(age_part == 0) else random.randint(40,59) if(age_part == 1) else random.randint(60,79)\n",
    "        politics = np.random.choice([\"Links\", \"Mitte\", \"Rechts\"], p=[0.1545, 0.722, 0.1235])\n",
    "        if(age <= 29):\n",
    "            grad = np.random.choice([\"Ausbildung\", \"Fachschulabschluss\", \"Bachelor\", \"Master\", \"Diplom\", \"Promotion\",\"ohne\"], p=[0.425,0.081,0.117,0.071,0.059,0.003,0.244])\n",
    "        elif(age <= 39):\n",
    "            grad = np.random.choice([\"Ausbildung\", \"Fachschulabschluss\", \"Bachelor\", \"Master\", \"Diplom\", \"Promotion\",\"ohne\"], p=[0.452,0.091,0.059,0.052,0.157,0.016,0.173])\n",
    "        elif(age <= 49):\n",
    "            grad = np.random.choice([\"Ausbildung\", \"Fachschulabschluss\", \"Bachelor\", \"Master\", \"Diplom\", \"Promotion\",\"ohne\"], p=[0.516,0.097,0.014,0.011,0.179,0.017,0.166])\n",
    "        elif(age <= 59):\n",
    "            grad = np.random.choice([\"Ausbildung\", \"Fachschulabschluss\", \"Bachelor\", \"Master\", \"Diplom\", \"Promotion\",\"ohne\"], p=[0.559,0.113,0.005,0.003,0.159,0.014,0.147])\n",
    "        else:\n",
    "            grad = np.random.choice([\"Ausbildung\", \"Fachschulabschluss\", \"Bachelor\", \"Master\", \"Diplom\", \"Promotion\",\"ohne\"], p=[0.544,0.096,0.002,0.001,0.132,0.012,0.213])\n",
    "        social = np.random.choice([0,1,2,3], p=[0.6,0.2,0.15,0.05]) if(politics==\"Mitte\") else np.random.choice([0,1,2,3], p=[0.4,0.25,0.25,0.1]) if(politics==\"Links\") else np.random.choice([0,1,2,3], p=[0.75,0.15,0.09,0.01])\n",
    "        location = np.random.choice([\"Großstadt\",\"Kleinstadt\",\"Vorort\",\"Ländlich\"], p=[0.55,0.25,0.05,0.15])\n",
    "        co2 = round(random.uniform(4,12),2)\n",
    "        output.append(\n",
    "            {\n",
    "                #Name of the person\n",
    "                \"Name\": fake.first_name(),\n",
    "                \"Alter\": age,\n",
    "                \"Politische Orientierung\": politics,\n",
    "                \"Bildungsabschluss\": grad,\n",
    "                \"Soziales\": social,\n",
    "                \"Wohnlage\": location,\n",
    "                \"Co2-Fußabdruck\": co2\n",
    "            }  \n",
    "        )\n",
    "    #Return of the output array with one person per entry\n",
    "    return output"
   ]
  },
  {
   "cell_type": "code",
   "execution_count": 17,
   "metadata": {},
   "outputs": [],
   "source": [
    "def generate_data(data_count):\n",
    "    seed = generate_seed()\n",
    "    df = pd.DataFrame(create_fake_data(data_count,int(seed)))\n",
    "    return df"
   ]
  },
  {
   "cell_type": "code",
   "execution_count": 18,
   "metadata": {},
   "outputs": [],
   "source": [
    "data = generate_data(10000)\n",
    "data.to_csv(\"Daten_Szenario2.csv\", sep=';', encoding='utf-8', index=False)"
   ]
  }
 ],
 "metadata": {
  "interpreter": {
   "hash": "b3ba2566441a7c06988d0923437866b63cedc61552a5af99d1f4fb67d367b25f"
  },
  "kernelspec": {
   "display_name": "Python 3.8.8 ('base')",
   "language": "python",
   "name": "python3"
  },
  "language_info": {
   "codemirror_mode": {
    "name": "ipython",
    "version": 3
   },
   "file_extension": ".py",
   "mimetype": "text/x-python",
   "name": "python",
   "nbconvert_exporter": "python",
   "pygments_lexer": "ipython3",
   "version": "3.8.8"
  },
  "orig_nbformat": 4
 },
 "nbformat": 4,
 "nbformat_minor": 2
}
