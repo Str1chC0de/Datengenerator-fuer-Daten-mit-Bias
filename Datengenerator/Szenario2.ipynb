{
 "cells": [
  {
   "cell_type": "code",
   "execution_count": null,
   "metadata": {},
   "outputs": [],
   "source": [
    "import numpy as np\n",
    "from faker import Faker\n",
    "import pandas as pd\n",
    "import os\n",
    "from datetime import datetime\n",
    "import random\n",
    "\n",
    "fake = Faker()"
   ]
  }
 ],
 "metadata": {
  "language_info": {
   "name": "python"
  },
  "orig_nbformat": 4
 },
 "nbformat": 4,
 "nbformat_minor": 2
}
