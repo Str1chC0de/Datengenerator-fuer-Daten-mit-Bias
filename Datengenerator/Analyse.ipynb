{
 "cells": [
  {
   "cell_type": "code",
   "execution_count": 1,
   "metadata": {},
   "outputs": [],
   "source": [
    "import pandas as pd"
   ]
  },
  {
   "cell_type": "code",
   "execution_count": 6,
   "metadata": {},
   "outputs": [
    {
     "data": {
      "text/html": [
       "<div>\n",
       "<style scoped>\n",
       "    .dataframe tbody tr th:only-of-type {\n",
       "        vertical-align: middle;\n",
       "    }\n",
       "\n",
       "    .dataframe tbody tr th {\n",
       "        vertical-align: top;\n",
       "    }\n",
       "\n",
       "    .dataframe thead th {\n",
       "        text-align: right;\n",
       "    }\n",
       "</style>\n",
       "<table border=\"1\" class=\"dataframe\">\n",
       "  <thead>\n",
       "    <tr style=\"text-align: right;\">\n",
       "      <th></th>\n",
       "      <th>Name</th>\n",
       "      <th>Hautfarbe</th>\n",
       "      <th>Laufende_Strafe</th>\n",
       "      <th>Geschlecht</th>\n",
       "      <th>Haerte_des_Vergehens</th>\n",
       "      <th>Bewertung</th>\n",
       "    </tr>\n",
       "  </thead>\n",
       "  <tbody>\n",
       "    <tr>\n",
       "      <th>0</th>\n",
       "      <td>Christian</td>\n",
       "      <td>Black</td>\n",
       "      <td>4</td>\n",
       "      <td>M</td>\n",
       "      <td>Leicht</td>\n",
       "      <td>negativ</td>\n",
       "    </tr>\n",
       "    <tr>\n",
       "      <th>1</th>\n",
       "      <td>Daniel</td>\n",
       "      <td>Black</td>\n",
       "      <td>2</td>\n",
       "      <td>M</td>\n",
       "      <td>Leicht</td>\n",
       "      <td>positiv</td>\n",
       "    </tr>\n",
       "    <tr>\n",
       "      <th>2</th>\n",
       "      <td>Alejandro</td>\n",
       "      <td>White</td>\n",
       "      <td>5</td>\n",
       "      <td>M</td>\n",
       "      <td>Mittel</td>\n",
       "      <td>negativ</td>\n",
       "    </tr>\n",
       "    <tr>\n",
       "      <th>3</th>\n",
       "      <td>Jason</td>\n",
       "      <td>White</td>\n",
       "      <td>3</td>\n",
       "      <td>M</td>\n",
       "      <td>Leicht</td>\n",
       "      <td>positiv</td>\n",
       "    </tr>\n",
       "    <tr>\n",
       "      <th>4</th>\n",
       "      <td>Jorge</td>\n",
       "      <td>White</td>\n",
       "      <td>5</td>\n",
       "      <td>M</td>\n",
       "      <td>Mittel</td>\n",
       "      <td>negativ</td>\n",
       "    </tr>\n",
       "    <tr>\n",
       "      <th>...</th>\n",
       "      <td>...</td>\n",
       "      <td>...</td>\n",
       "      <td>...</td>\n",
       "      <td>...</td>\n",
       "      <td>...</td>\n",
       "      <td>...</td>\n",
       "    </tr>\n",
       "    <tr>\n",
       "      <th>995</th>\n",
       "      <td>Robert</td>\n",
       "      <td>White</td>\n",
       "      <td>1</td>\n",
       "      <td>M</td>\n",
       "      <td>Leicht</td>\n",
       "      <td>positiv</td>\n",
       "    </tr>\n",
       "    <tr>\n",
       "      <th>996</th>\n",
       "      <td>Joshua</td>\n",
       "      <td>Black</td>\n",
       "      <td>5</td>\n",
       "      <td>M</td>\n",
       "      <td>Leicht</td>\n",
       "      <td>negativ</td>\n",
       "    </tr>\n",
       "    <tr>\n",
       "      <th>997</th>\n",
       "      <td>Katrina</td>\n",
       "      <td>Black</td>\n",
       "      <td>4</td>\n",
       "      <td>W</td>\n",
       "      <td>Leicht</td>\n",
       "      <td>negativ</td>\n",
       "    </tr>\n",
       "    <tr>\n",
       "      <th>998</th>\n",
       "      <td>David</td>\n",
       "      <td>Black</td>\n",
       "      <td>1</td>\n",
       "      <td>M</td>\n",
       "      <td>Mittel</td>\n",
       "      <td>positiv</td>\n",
       "    </tr>\n",
       "    <tr>\n",
       "      <th>999</th>\n",
       "      <td>William</td>\n",
       "      <td>Black</td>\n",
       "      <td>2</td>\n",
       "      <td>M</td>\n",
       "      <td>Mittel</td>\n",
       "      <td>negativ</td>\n",
       "    </tr>\n",
       "  </tbody>\n",
       "</table>\n",
       "<p>1000 rows × 6 columns</p>\n",
       "</div>"
      ],
      "text/plain": [
       "          Name Hautfarbe  Laufende_Strafe Geschlecht Haerte_des_Vergehens  \\\n",
       "0    Christian     Black                4          M               Leicht   \n",
       "1       Daniel     Black                2          M               Leicht   \n",
       "2    Alejandro     White                5          M               Mittel   \n",
       "3        Jason     White                3          M               Leicht   \n",
       "4        Jorge     White                5          M               Mittel   \n",
       "..         ...       ...              ...        ...                  ...   \n",
       "995     Robert     White                1          M               Leicht   \n",
       "996     Joshua     Black                5          M               Leicht   \n",
       "997    Katrina     Black                4          W               Leicht   \n",
       "998      David     Black                1          M               Mittel   \n",
       "999    William     Black                2          M               Mittel   \n",
       "\n",
       "    Bewertung  \n",
       "0     negativ  \n",
       "1     positiv  \n",
       "2     negativ  \n",
       "3     positiv  \n",
       "4     negativ  \n",
       "..        ...  \n",
       "995   positiv  \n",
       "996   negativ  \n",
       "997   negativ  \n",
       "998   positiv  \n",
       "999   negativ  \n",
       "\n",
       "[1000 rows x 6 columns]"
      ]
     },
     "execution_count": 6,
     "metadata": {},
     "output_type": "execute_result"
    }
   ],
   "source": [
    "df = pd.read_csv(\"Daten_Bewertet.csv\", delimiter=';')\n",
    "df"
   ]
  },
  {
   "cell_type": "code",
   "execution_count": 9,
   "metadata": {},
   "outputs": [
    {
     "name": "stdout",
     "output_type": "stream",
     "text": [
      "Hautfarbe  Bewertung\n",
      "Black      negativ      361\n",
      "           positiv      233\n",
      "White      negativ      210\n",
      "           positiv      196\n",
      "dtype: int64\n"
     ]
    }
   ],
   "source": [
    "freq = df.groupby(['Hautfarbe', 'Bewertung']).size()\n",
    "print(freq)"
   ]
  },
  {
   "cell_type": "code",
   "execution_count": 11,
   "metadata": {},
   "outputs": [
    {
     "data": {
      "text/plain": [
       "Hautfarbe\n",
       "Black    594\n",
       "White    406\n",
       "dtype: int64"
      ]
     },
     "execution_count": 11,
     "metadata": {},
     "output_type": "execute_result"
    }
   ],
   "source": [
    "max = df.groupby(['Hautfarbe']).size()\n",
    "max"
   ]
  },
  {
   "cell_type": "code",
   "execution_count": 12,
   "metadata": {},
   "outputs": [
    {
     "name": "stdout",
     "output_type": "stream",
     "text": [
      "Hautfarbe  Geschlecht  Bewertung\n",
      "Black      M           negativ      216\n",
      "                       positiv      141\n",
      "           W           negativ      145\n",
      "                       positiv       92\n",
      "White      M           negativ      147\n",
      "                       positiv      130\n",
      "           W           negativ       63\n",
      "                       positiv       66\n",
      "dtype: int64\n"
     ]
    }
   ],
   "source": [
    "freq = df.groupby(['Hautfarbe','Geschlecht', 'Bewertung']).size()\n",
    "print(freq)"
   ]
  },
  {
   "cell_type": "code",
   "execution_count": 13,
   "metadata": {},
   "outputs": [
    {
     "name": "stdout",
     "output_type": "stream",
     "text": [
      "Hautfarbe  Laufende_Strafe  Bewertung\n",
      "Black      1                negativ       43\n",
      "                            positiv       87\n",
      "           2                negativ       35\n",
      "                            positiv       81\n",
      "           3                negativ       44\n",
      "                            positiv       65\n",
      "           4                negativ      129\n",
      "           5                negativ      110\n",
      "White      1                negativ       22\n",
      "                            positiv       59\n",
      "           2                negativ       15\n",
      "                            positiv       64\n",
      "           3                negativ       20\n",
      "                            positiv       73\n",
      "           4                negativ       70\n",
      "           5                negativ       83\n",
      "dtype: int64\n"
     ]
    }
   ],
   "source": [
    "freq = df.groupby(['Hautfarbe','Laufende_Strafe', 'Bewertung']).size()\n",
    "print(freq)"
   ]
  },
  {
   "cell_type": "code",
   "execution_count": 15,
   "metadata": {},
   "outputs": [
    {
     "name": "stdout",
     "output_type": "stream",
     "text": [
      "Hautfarbe  Haerte_des_Vergehens  Bewertung\n",
      "Black      Hart                  negativ      115\n",
      "           Leicht                negativ      147\n",
      "                                 positiv      139\n",
      "           Mittel                negativ       99\n",
      "                                 positiv       94\n",
      "White      Hart                  negativ       82\n",
      "           Leicht                negativ       80\n",
      "                                 positiv      110\n",
      "           Mittel                negativ       48\n",
      "                                 positiv       86\n",
      "dtype: int64\n"
     ]
    }
   ],
   "source": [
    "freq = df.groupby(['Hautfarbe','Haerte_des_Vergehens', 'Bewertung']).size()\n",
    "print(freq)"
   ]
  }
 ],
 "metadata": {
  "interpreter": {
   "hash": "b3ba2566441a7c06988d0923437866b63cedc61552a5af99d1f4fb67d367b25f"
  },
  "kernelspec": {
   "display_name": "Python 3.8.8 64-bit ('base': conda)",
   "language": "python",
   "name": "python3"
  },
  "language_info": {
   "codemirror_mode": {
    "name": "ipython",
    "version": 3
   },
   "file_extension": ".py",
   "mimetype": "text/x-python",
   "name": "python",
   "nbconvert_exporter": "python",
   "pygments_lexer": "ipython3",
   "version": "3.8.8"
  },
  "orig_nbformat": 4
 },
 "nbformat": 4,
 "nbformat_minor": 2
}
