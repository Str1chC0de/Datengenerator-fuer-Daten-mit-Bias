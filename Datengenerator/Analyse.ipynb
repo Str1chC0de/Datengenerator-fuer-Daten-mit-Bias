{
 "cells": [
  {
   "cell_type": "code",
   "execution_count": 1,
   "metadata": {},
   "outputs": [],
   "source": [
    "import pandas as pd"
   ]
  },
  {
   "cell_type": "code",
   "execution_count": 2,
   "metadata": {},
   "outputs": [
    {
     "data": {
      "text/html": [
       "<div>\n",
       "<style scoped>\n",
       "    .dataframe tbody tr th:only-of-type {\n",
       "        vertical-align: middle;\n",
       "    }\n",
       "\n",
       "    .dataframe tbody tr th {\n",
       "        vertical-align: top;\n",
       "    }\n",
       "\n",
       "    .dataframe thead th {\n",
       "        text-align: right;\n",
       "    }\n",
       "</style>\n",
       "<table border=\"1\" class=\"dataframe\">\n",
       "  <thead>\n",
       "    <tr style=\"text-align: right;\">\n",
       "      <th></th>\n",
       "      <th>Name</th>\n",
       "      <th>Hautfarbe</th>\n",
       "      <th>Laufende_Strafe</th>\n",
       "      <th>Geschlecht</th>\n",
       "      <th>Haerte_des_Vergehens</th>\n",
       "      <th>Bewertung</th>\n",
       "    </tr>\n",
       "  </thead>\n",
       "  <tbody>\n",
       "    <tr>\n",
       "      <th>0</th>\n",
       "      <td>Leslie</td>\n",
       "      <td>Black</td>\n",
       "      <td>1</td>\n",
       "      <td>W</td>\n",
       "      <td>Mittel</td>\n",
       "      <td>negativ</td>\n",
       "    </tr>\n",
       "    <tr>\n",
       "      <th>1</th>\n",
       "      <td>Christina</td>\n",
       "      <td>White</td>\n",
       "      <td>2</td>\n",
       "      <td>W</td>\n",
       "      <td>Hart</td>\n",
       "      <td>negativ</td>\n",
       "    </tr>\n",
       "    <tr>\n",
       "      <th>2</th>\n",
       "      <td>Kristina</td>\n",
       "      <td>Black</td>\n",
       "      <td>2</td>\n",
       "      <td>W</td>\n",
       "      <td>Leicht</td>\n",
       "      <td>positiv</td>\n",
       "    </tr>\n",
       "    <tr>\n",
       "      <th>3</th>\n",
       "      <td>Curtis</td>\n",
       "      <td>White</td>\n",
       "      <td>3</td>\n",
       "      <td>M</td>\n",
       "      <td>Hart</td>\n",
       "      <td>negativ</td>\n",
       "    </tr>\n",
       "    <tr>\n",
       "      <th>4</th>\n",
       "      <td>Danny</td>\n",
       "      <td>Black</td>\n",
       "      <td>2</td>\n",
       "      <td>M</td>\n",
       "      <td>Hart</td>\n",
       "      <td>negativ</td>\n",
       "    </tr>\n",
       "    <tr>\n",
       "      <th>...</th>\n",
       "      <td>...</td>\n",
       "      <td>...</td>\n",
       "      <td>...</td>\n",
       "      <td>...</td>\n",
       "      <td>...</td>\n",
       "      <td>...</td>\n",
       "    </tr>\n",
       "    <tr>\n",
       "      <th>995</th>\n",
       "      <td>Robin</td>\n",
       "      <td>White</td>\n",
       "      <td>5</td>\n",
       "      <td>W</td>\n",
       "      <td>Hart</td>\n",
       "      <td>negativ</td>\n",
       "    </tr>\n",
       "    <tr>\n",
       "      <th>996</th>\n",
       "      <td>Lauren</td>\n",
       "      <td>Black</td>\n",
       "      <td>1</td>\n",
       "      <td>W</td>\n",
       "      <td>Leicht</td>\n",
       "      <td>negativ</td>\n",
       "    </tr>\n",
       "    <tr>\n",
       "      <th>997</th>\n",
       "      <td>Richard</td>\n",
       "      <td>Black</td>\n",
       "      <td>1</td>\n",
       "      <td>M</td>\n",
       "      <td>Hart</td>\n",
       "      <td>negativ</td>\n",
       "    </tr>\n",
       "    <tr>\n",
       "      <th>998</th>\n",
       "      <td>Robert</td>\n",
       "      <td>Black</td>\n",
       "      <td>5</td>\n",
       "      <td>M</td>\n",
       "      <td>Mittel</td>\n",
       "      <td>negativ</td>\n",
       "    </tr>\n",
       "    <tr>\n",
       "      <th>999</th>\n",
       "      <td>Anthony</td>\n",
       "      <td>Black</td>\n",
       "      <td>1</td>\n",
       "      <td>M</td>\n",
       "      <td>Mittel</td>\n",
       "      <td>negativ</td>\n",
       "    </tr>\n",
       "  </tbody>\n",
       "</table>\n",
       "<p>1000 rows × 6 columns</p>\n",
       "</div>"
      ],
      "text/plain": [
       "          Name Hautfarbe  Laufende_Strafe Geschlecht Haerte_des_Vergehens  \\\n",
       "0       Leslie     Black                1          W               Mittel   \n",
       "1    Christina     White                2          W                 Hart   \n",
       "2     Kristina     Black                2          W               Leicht   \n",
       "3       Curtis     White                3          M                 Hart   \n",
       "4        Danny     Black                2          M                 Hart   \n",
       "..         ...       ...              ...        ...                  ...   \n",
       "995      Robin     White                5          W                 Hart   \n",
       "996     Lauren     Black                1          W               Leicht   \n",
       "997    Richard     Black                1          M                 Hart   \n",
       "998     Robert     Black                5          M               Mittel   \n",
       "999    Anthony     Black                1          M               Mittel   \n",
       "\n",
       "    Bewertung  \n",
       "0     negativ  \n",
       "1     negativ  \n",
       "2     positiv  \n",
       "3     negativ  \n",
       "4     negativ  \n",
       "..        ...  \n",
       "995   negativ  \n",
       "996   negativ  \n",
       "997   negativ  \n",
       "998   negativ  \n",
       "999   negativ  \n",
       "\n",
       "[1000 rows x 6 columns]"
      ]
     },
     "execution_count": 2,
     "metadata": {},
     "output_type": "execute_result"
    }
   ],
   "source": [
    "df = pd.read_csv(\"Daten_Bewertet.csv\", delimiter=';')\n",
    "df"
   ]
  },
  {
   "cell_type": "code",
   "execution_count": 3,
   "metadata": {},
   "outputs": [
    {
     "name": "stdout",
     "output_type": "stream",
     "text": [
      "Hautfarbe  Bewertung\n",
      "Black      negativ      388\n",
      "           positiv      222\n",
      "White      negativ      196\n",
      "           positiv      194\n",
      "dtype: int64\n"
     ]
    }
   ],
   "source": [
    "freq = df.groupby(['Hautfarbe', 'Bewertung']).size()\n",
    "print(freq)"
   ]
  },
  {
   "cell_type": "code",
   "execution_count": 4,
   "metadata": {},
   "outputs": [
    {
     "data": {
      "text/plain": [
       "Hautfarbe\n",
       "Black    610\n",
       "White    390\n",
       "dtype: int64"
      ]
     },
     "execution_count": 4,
     "metadata": {},
     "output_type": "execute_result"
    }
   ],
   "source": [
    "max = df.groupby(['Hautfarbe']).size()\n",
    "max"
   ]
  },
  {
   "cell_type": "code",
   "execution_count": 5,
   "metadata": {},
   "outputs": [
    {
     "name": "stdout",
     "output_type": "stream",
     "text": [
      "Hautfarbe  Geschlecht  Bewertung\n",
      "Black      M           negativ      246\n",
      "                       positiv      147\n",
      "           W           negativ      142\n",
      "                       positiv       75\n",
      "White      M           negativ      121\n",
      "                       positiv      131\n",
      "           W           negativ       75\n",
      "                       positiv       63\n",
      "dtype: int64\n"
     ]
    }
   ],
   "source": [
    "freq = df.groupby(['Hautfarbe','Geschlecht', 'Bewertung']).size()\n",
    "print(freq)"
   ]
  },
  {
   "cell_type": "code",
   "execution_count": 6,
   "metadata": {},
   "outputs": [
    {
     "name": "stdout",
     "output_type": "stream",
     "text": [
      "Hautfarbe  Laufende_Strafe  Bewertung\n",
      "Black      1                negativ       44\n",
      "                            positiv       68\n",
      "           2                negativ       47\n",
      "                            positiv       65\n",
      "           3                negativ       42\n",
      "                            positiv       89\n",
      "           4                negativ      131\n",
      "           5                negativ      124\n",
      "White      1                negativ       12\n",
      "                            positiv       62\n",
      "           2                negativ       13\n",
      "                            positiv       57\n",
      "           3                negativ       16\n",
      "                            positiv       75\n",
      "           4                negativ       74\n",
      "           5                negativ       81\n",
      "dtype: int64\n"
     ]
    }
   ],
   "source": [
    "freq = df.groupby(['Hautfarbe','Laufende_Strafe', 'Bewertung']).size()\n",
    "print(freq)"
   ]
  },
  {
   "cell_type": "code",
   "execution_count": 7,
   "metadata": {},
   "outputs": [
    {
     "name": "stdout",
     "output_type": "stream",
     "text": [
      "Hautfarbe  Haerte_des_Vergehens  Bewertung\n",
      "Black      Hart                  negativ      133\n",
      "           Leicht                negativ      138\n",
      "                                 positiv      136\n",
      "           Mittel                negativ      117\n",
      "                                 positiv       86\n",
      "White      Hart                  negativ       69\n",
      "           Leicht                negativ       69\n",
      "                                 positiv       96\n",
      "           Mittel                negativ       58\n",
      "                                 positiv       98\n",
      "dtype: int64\n"
     ]
    }
   ],
   "source": [
    "freq = df.groupby(['Hautfarbe','Haerte_des_Vergehens', 'Bewertung']).size()\n",
    "print(freq)"
   ]
  }
 ],
 "metadata": {
  "interpreter": {
   "hash": "b3ba2566441a7c06988d0923437866b63cedc61552a5af99d1f4fb67d367b25f"
  },
  "kernelspec": {
   "display_name": "Python 3.8.8 64-bit ('base': conda)",
   "language": "python",
   "name": "python3"
  },
  "language_info": {
   "codemirror_mode": {
    "name": "ipython",
    "version": 3
   },
   "file_extension": ".py",
   "mimetype": "text/x-python",
   "name": "python",
   "nbconvert_exporter": "python",
   "pygments_lexer": "ipython3",
   "version": "3.8.8"
  },
  "orig_nbformat": 4
 },
 "nbformat": 4,
 "nbformat_minor": 2
}
