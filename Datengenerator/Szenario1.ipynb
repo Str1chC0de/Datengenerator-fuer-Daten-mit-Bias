{
 "cells": [
  {
   "cell_type": "markdown",
   "metadata": {},
   "source": [
    "# Datengenerator und Bewertung\n",
    "    Szenario der Bewährungsauflagen Bewertung mit 5 Attributen(Name, Hautfarbe, Laufende_Strafe in Jahre, Geschlecht und Härte des Vergehens)\n",
    "    Dabei können Hautfarbe und Geschlecht durch Bias beeinflusst werden."
   ]
  },
  {
   "cell_type": "code",
   "execution_count": 2,
   "metadata": {},
   "outputs": [],
   "source": [
    "import numpy as np\n",
    "from faker import Faker\n",
    "import pandas as pd\n",
    "from datetime import datetime\n",
    "import random\n",
    "\n",
    "fake = Faker()"
   ]
  },
  {
   "cell_type": "markdown",
   "metadata": {},
   "source": [
    "#### Eine Funktion zum erstellen der synthetischen Daten.\n",
    "    \n",
    "    Die Parameter num und seed geben dabei zum einen die Anzahl an Datensätzen an und zum anderen den seed der \"künstlichen\" Wahrscheinlichkeit.\n",
    "    Es wird pro Datensatz ein geschlecht(M,W) daraufbasierend die haerte(Leicht, Mittel, Hart), die hautfarbe(Weiß, Schwarz) und einen Namen zufällig ausgewählt.\n",
    "    Zu guter Letzt wird noch die Laufende_Strafe(1,2,3,4,5) ohne Fremdeinwirkung zufällig ausgewählt."
   ]
  },
  {
   "cell_type": "code",
   "execution_count": 3,
   "metadata": {},
   "outputs": [],
   "source": [
    "def create_fake_data(num = 10, seed = 123):\n",
    "    #Setting the seed for the probability functions\n",
    "    np.random.seed(seed)\n",
    "    fake.seed_instance(seed)\n",
    "    #Defining the Output Array\n",
    "    output = []\n",
    "    #Loop over the number of requests to be created\n",
    "    for x in range(num):\n",
    "        #Random choice of sex with specified probability\n",
    "        sex = np.random.choice([\"M\", \"W\"], p=[0.927, 0.073])\n",
    "        #Random choice of hardness taking into account gender\n",
    "        hardnes = np.random.choice([\"Leicht\", \"Mittel\", \"Hart\"], p=[0.266, 0.169, 0.565]) if sex==\"M\" else np.random.choice([\"Leicht\", \"Mittel\", \"Hart\"], p=[0.361, 0.264, 0.375])\n",
    "        #Random choice of skin colour taking into account gender\n",
    "        skin = np.random.choice([\"Weiß\", \"Schwarz\"], p=[0.459, 0.541]) if sex==\"M\" else np.random.choice([\"Weiß\", \"Schwarz\"], p=[0.715, 0.285])\n",
    "        #Add entry to the array\n",
    "        output.append(\n",
    "            {\n",
    "                #Name of the person based on gender\n",
    "                \"Name\": fake.first_name_male() if sex==\"M\" else fake.first_name_female(),\n",
    "                \"Hautfarbe\": skin,\n",
    "                #Random skin colour\n",
    "                \"Laufende_Strafe\": np.random.choice([1,2,3,4,5]),\n",
    "                \"Geschlecht\": sex,\n",
    "                \"Haerte_des_Vergehens\": hardnes\n",
    "            }  \n",
    "        )\n",
    "    #Return of the output array with one request per entry\n",
    "    return output"
   ]
  },
  {
   "cell_type": "markdown",
   "metadata": {},
   "source": [
    "#### Funktion zum Erstellen der Regeln nach welchen ein Bewerter bewerten soll.\n",
    "    Parameter: antrag_werte ist ein Array an den zur Bewertung relevanten Werte wie z.B. die Härte des Vergehens\n",
    "    antrag_bias ist ein Array an den mit Bias sinnvoll Beinflussbaren Werte wie z.B. Geschlecht\n",
    "    bias ist der letztendliche Bias welcher ausgeübt werden soll z.B. Hautfarbe:Schwarz bedeutet Diskriminierung gegenüber Schwarzen.\n",
    "    Es werden 4 Regeln als Dictionarys erstellt:\n",
    "    regel_pos: Sind die Werte für eine positive Bewertung eines Antrags ohne Bias\n",
    "    regel_neg: Sind die Werte für eine negative Bewertung eines Antrags ohne Bias\n",
    "    regel_pos_bias: Sind die Werte für eine positive Bewertung eines Antrags mit Betrachtung des Bias\n",
    "    regel_neg_bias: Sind die Werte für eine negative Bewertung eines Antrags mit Betrachtung des Bias\n",
    "    Diese Regeln werden am Ende zurückgegeben"
   ]
  },
  {
   "cell_type": "code",
   "execution_count": 4,
   "metadata": {},
   "outputs": [],
   "source": [
    "def create_Rules(request_values, request_bias, bias):\n",
    "    #Creating the Rule Dictionarys\n",
    "    rule_pos = {}\n",
    "    rule_neg = {}\n",
    "    rule_neg_bias = {}\n",
    "    rule_pos_bias = {}\n",
    "    #For each possible request value categoriser (Härte des Vergehens, Laufende Strafe)\n",
    "    for key in request_values.keys():\n",
    "        #The following characteristics exist(härte: Leicht,Mittel,Hart)\n",
    "        values = request_values[key]\n",
    "        #Determine mean value of the expressions to distribute 50/50 between positive and negative rules\n",
    "        length = int(len(values)/2)+1\n",
    "        pos_values = []\n",
    "        #Adding the positive first values\n",
    "        for x in range(length):\n",
    "            pos_values.append(values[x])\n",
    "        #Add the expressions with the category to the regel_pos Dict\n",
    "        rule_pos[key] = pos_values\n",
    "        #Add the remaining expressions of the category to the rule_neg\n",
    "        neg_values = []\n",
    "        for y in range(len(values)):\n",
    "            if(y >= length):\n",
    "                neg_values.append(values[y])\n",
    "        rule_neg[key] = neg_values\n",
    "    #The distribution of the rules remains the same regardless of whether bias or not, so copy deep for now.\n",
    "    rule_pos_bias = rule_pos.copy()\n",
    "    rule_neg_bias = rule_neg.copy()\n",
    "    #If there is to be no bias then skip\n",
    "    if(bias != None):\n",
    "        #For each possible bias category\n",
    "        for key in request_bias.keys():\n",
    "            #If the value is equal to the specified bias parameter\n",
    "            if(bias.keys().__contains__(key)):\n",
    "                #Adding the negative specified bias rule\n",
    "                rule_neg_bias[key] = bias[key]\n",
    "                neg_bias = bias[key]\n",
    "                rule_pos_bias[key] = []\n",
    "                #Adding the remaining opposite positive bias rule\n",
    "                for val in request_bias[key]:\n",
    "                    if not(neg_bias.__contains__(val)):\n",
    "                        rule_pos_bias[key].append(val)\n",
    "    #Return of all 4 generated Rule Dicts\n",
    "    return(rule_pos, rule_neg, rule_pos_bias, rule_neg_bias)"
   ]
  },
  {
   "cell_type": "markdown",
   "metadata": {},
   "source": [
    "#### Testzelle zum prüfen der erzeugten Regeln"
   ]
  },
  {
   "cell_type": "code",
   "execution_count": 5,
   "metadata": {},
   "outputs": [
    {
     "name": "stdout",
     "output_type": "stream",
     "text": [
      "{'Laufende_Strafe': [1, 2, 3], 'Haerte_des_Vergehens': ['Leicht', 'Mittel']}\n",
      "{'Laufende_Strafe': [4, 5], 'Haerte_des_Vergehens': ['Hart']}\n",
      "{'Laufende_Strafe': [1, 2, 3], 'Haerte_des_Vergehens': ['Leicht', 'Mittel'], 'Hautfarbe': ['Weiß']}\n",
      "{'Laufende_Strafe': [4, 5], 'Haerte_des_Vergehens': ['Hart'], 'Hautfarbe': ['Schwarz']}\n"
     ]
    }
   ],
   "source": [
    "#Defining the dictionaries for the bias, the request values and the request bias values\n",
    "bias = {\n",
    "    \"Hautfarbe\": [\"Schwarz\"]\n",
    "}\n",
    "request_values = {\n",
    "    \"Laufende_Strafe\": [1,2,3,4,5],\n",
    "    \"Haerte_des_Vergehens\": [\"Leicht\", \"Mittel\", \"Hart\"]\n",
    "}\n",
    "request_bias = {\n",
    "    \"Hautfarbe\": [\"Schwarz\", \"Weiß\"],\n",
    "    \"Geschlecht\": [\"M\", \"W\"]\n",
    "}\n",
    "#Create and output sample rules\n",
    "r_pos, r_neg, rb_pos, rb_neg = create_Rules(request_values, request_bias, bias)\n",
    "print(r_pos)\n",
    "print(r_neg)\n",
    "print(rb_pos)\n",
    "print(rb_neg)"
   ]
  },
  {
   "cell_type": "markdown",
   "metadata": {},
   "source": [
    "#### Generieren eines ziemlich zufälligen Seeds\n",
    "    Generieren eines Seeds beruhend auf den Angaben der Zeit.\n",
    "    So ist bei jeder generierung der Daten ein anderer Seed verfügbar und es entstehen \"wirkliche\" Zufallswerte"
   ]
  },
  {
   "cell_type": "code",
   "execution_count": 6,
   "metadata": {},
   "outputs": [],
   "source": [
    "def generate_seed():\n",
    "    now = datetime.now()\n",
    "    #Calculate seed number from a few time data\n",
    "    seed = (now.day * now.minute * now.second * now.month * now.year * now.hour) / now.microsecond \n",
    "    #If a negative or 0 value is the result, a \"simpler\" replacement seed is generated. \n",
    "    if(seed <= 0):\n",
    "        seed = now.day * (now.minute + 1)\n",
    "    return seed"
   ]
  },
  {
   "cell_type": "markdown",
   "metadata": {},
   "source": [
    "#### Klasse für das erstellen eines Bewerters \n",
    "    Beinhaltet Methoden zum einen zum erstellen des Bewerter Objekts und zum anderen die Methode bewerte, um einen Antrag nach den eigenen Regeln zu Bewerten. So hat jeder Bewerte seine eigenen Regln und einen Bias oder nicht.\n",
    "    "
   ]
  },
  {
   "cell_type": "code",
   "execution_count": 7,
   "metadata": {},
   "outputs": [],
   "source": [
    "class Evaluator:\n",
    "    #Creating a evaluator with its own rules and a bias or not\n",
    "    def __init__(self, rule_pos, rule_neg, bias, percentage=0.2):\n",
    "        self.rule_pos = rule_pos\n",
    "        self.rule_neg = rule_neg\n",
    "        self.bias = bias\n",
    "        self.bias_percentage = percentage\n",
    "    #Function to evaluate a submitted application with or without bias\n",
    "    def rate(self, request, bias):\n",
    "        #First 50/50 distribution\n",
    "        pos = 50\n",
    "        #Calculate the proportion according to which the decision is influenced positively or negatively.\n",
    "        prop = 45/self.rule_pos.__len__()\n",
    "        #Depending on how the rules match the request, the weight of the positive evaluation is shifted.\n",
    "        for key in self.rule_pos.keys():\n",
    "            if(self.rule_pos[key].__contains__(request[key])):\n",
    "                pos += prop\n",
    "            else:\n",
    "                pos -= prop\n",
    "        try:\n",
    "            #If a bias is present, this is additionally taken into account with the Parameter in %\n",
    "            if(self.bias):\n",
    "                for b in bias:\n",
    "                    if(bias[b].__contains__(request[b])):\n",
    "                        pos = pos*self.bias_percentage\n",
    "            #Normalise positive value\n",
    "            pos = pos/100\n",
    "            #Determine negative value\n",
    "            neg = 1-pos\n",
    "            #Rating by chance with indication of pos and neg rating and adding the rating to the request. \n",
    "            request[\"Bewertung\"] = np.random.choice([\"positiv\", \"negativ\"], p=[pos, neg])\n",
    "        except:\n",
    "            print(\"Failure\")\n",
    "        return request"
   ]
  },
  {
   "cell_type": "markdown",
   "metadata": {},
   "source": [
    "#### Methoden für den Gesamtablauf\n",
    "##### work(df, bias, evaluator_count, bias_Evaluator):\n",
    "    Parameter: df ist der Datensatz welcher Bewertet werden soll, bias ist der Bias welcher ausgeführt werden soll, evaluator_count ist die Anzahl der Bewerter welche die Anträge bewerten, bias_Evaluator ist die Anzahl an Bewerter welche diskriminieren.\n",
    "    Zuerst werden die bestehenden Werte für die ANträge definiert, um daraus die Regeln zu erstellen. Danach wird die gegebene Anzahl an Bewertern erstellt. Im Anschluss wird die in biasBewerter angegebene Anzahl der Bewerter zu einem Bias Bewerter verwandelt. \n",
    "    Zu guter Letzt werden die gegebenen Anträge bewertet und mit Bewertung zurückgegeben.\n",
    "##### generate_data(data_count):\n",
    "    Parameter: data_count gibt die Anzahl der zu generierenden Daten an.\n",
    "    Zuerst wird ein Seed für den Random Faktor erzeugt, danach die synthetischen Daten erstellt und als Dataframe abgespeichert."
   ]
  },
  {
   "cell_type": "code",
   "execution_count": 8,
   "metadata": {},
   "outputs": [],
   "source": [
    "def generate_data(data_count):\n",
    "    seed = generate_seed()\n",
    "    df = pd.DataFrame(create_fake_data(data_count,int(seed)))\n",
    "    return df\n",
    "def work(df, bias, evaluator_count, bias_evaluator, bias_percentage):\n",
    "    #Values in the request which only serve as filler and are therefore irrelevant\n",
    "    request_name = {\n",
    "        \"Name\": \"random\"\n",
    "    }\n",
    "    #Values in the request which influence the evaluation\n",
    "    request_values = {\n",
    "        \"Laufende_Strafe\": [1,2,3,4,5],\n",
    "        \"Haerte_des_Vergehens\": [\"Leicht\", \"Mittel\", \"Hart\"]\n",
    "    }\n",
    "    #Values in the request which can have an effect on the evaluation as a bias\n",
    "    request_bias = {\n",
    "        \"Hautfarbe\": [\"Schwarz\", \"Weiß\"],\n",
    "        \"Geschlecht\": [\"M\", \"W\"]\n",
    "    }\n",
    "    #Create the rules and save them in 4 variables\n",
    "    r_pos, r_neg, rb_pos, rb_neg = create_Rules(request_values, request_bias, bias)\n",
    "    #Create the number of evaluators\n",
    "    evaluator = []\n",
    "    for x in range(evaluator_count):\n",
    "        evaluator.append(Evaluator(rule_pos=r_pos, rule_neg=r_neg, bias=False))\n",
    "    #Convert the number of evaluators specified as parameters to evaluators with a bias\n",
    "    for x in range(bias_evaluator):\n",
    "        #Reset Rules and Bias Flag\n",
    "        evaluator[x].rule_pos = rb_pos\n",
    "        evaluator[x].rule_neg = rb_neg\n",
    "        evaluator[x].bias = True\n",
    "        evaluator[x].bias_percentage = bias_percentage\n",
    "    #Random number of evaluator selections\n",
    "    i = 0\n",
    "    #The final evaluated requests\n",
    "    finished_requests = []\n",
    "    #For each request in the dataframe\n",
    "    for index, r in df.iterrows():\n",
    "        #Determine a random evaluator from all the evaluators\n",
    "        i = random.randint(0, evaluator_count-1)\n",
    "        #Have the request evaluated and saved\n",
    "        req = evaluator[i].rate(r.copy(), bias)\n",
    "        #Add the finished request to the array\n",
    "        finished_requests.append(req)\n",
    "    #Save the finished requests as a data frame and return them\n",
    "    newdf = pd.DataFrame(finished_requests)\n",
    "    return newdf"
   ]
  },
  {
   "cell_type": "markdown",
   "metadata": {},
   "source": [
    "#### Finale Zelle zum ausführen des Ablaufs von Szenario 1\n",
    "    Zuerst wird der bias definiert welcher in den Daten negativ zu finden sein soll. Also Beispiel Hautfarbe: Weiß bedeutet, dass es Bewerter gibt, welche Personen mit der Hautfarbe: Weiß diskriminieren und den Antrag höchstwahrscheinlich negativ bewerten.\n",
    "    Danach werden die angegebne Anzahl der Daten generiert.\n",
    "    Mit den Daten wird dann der fertig Bewertete Datensatz durch die Methode work erstellt.\n",
    "    Zum Schluss werden die Ursprungsdaten und die finalen Daten abgespeichert als CSV Datei."
   ]
  },
  {
   "cell_type": "code",
   "execution_count": 9,
   "metadata": {},
   "outputs": [],
   "source": [
    "#Here is the section for the possible parameters to enter\n",
    "#This dictionary specifies the bias(es) on a possible attribute\n",
    "bias = {\n",
    "    \"Hautfarbe\": [\"Weiß\"]\n",
    "}\n",
    "#The number of datasets that are to be generated\n",
    "datasets=10000\n",
    "#The number of evaluators who evaluate entries\n",
    "evaluator_count=10\n",
    "#The number of evaluators who evaluate with a bias\n",
    "bias_evaluator=4\n",
    "#This decides how strong the bias will be. The smaller the stronger.\n",
    "bias_percentage=0.2\n",
    "\n",
    "#Dont touch this\n",
    "data = generate_data(datasets)\n",
    "finished = work(data,bias,evaluator_count,bias_evaluator,bias_percentage)\n",
    "data.to_csv(\"Daten.csv\", sep=';', encoding='utf-8', index=False)\n",
    "finished.to_csv(\"Daten_Bewertet.csv\", sep=';', encoding='utf-8', index=False)"
   ]
  }
 ],
 "metadata": {
  "interpreter": {
   "hash": "ad2bdc8ecc057115af97d19610ffacc2b4e99fae6737bb82f5d7fb13d2f2c186"
  },
  "kernelspec": {
   "display_name": "Python 3.8.8 ('base')",
   "language": "python",
   "name": "python3"
  },
  "language_info": {
   "codemirror_mode": {
    "name": "ipython",
    "version": 3
   },
   "file_extension": ".py",
   "mimetype": "text/x-python",
   "name": "python",
   "nbconvert_exporter": "python",
   "pygments_lexer": "ipython3",
   "version": "3.8.8"
  },
  "orig_nbformat": 4
 },
 "nbformat": 4,
 "nbformat_minor": 2
}
